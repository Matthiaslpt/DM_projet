{
 "cells": [
  {
   "cell_type": "code",
   "execution_count": 1,
   "metadata": {},
   "outputs": [
    {
     "ename": "NameError",
     "evalue": "name 'image_filename' is not defined",
     "output_type": "error",
     "traceback": [
      "\u001b[0;31m---------------------------------------------------------------------------\u001b[0m",
      "\u001b[0;31mNameError\u001b[0m                                 Traceback (most recent call last)",
      "Cell \u001b[0;32mIn[1], line 7\u001b[0m\n\u001b[1;32m      1\u001b[0m \u001b[38;5;28;01mimport\u001b[39;00m\u001b[38;5;250m \u001b[39m\u001b[38;5;21;01mrequests\u001b[39;00m\n\u001b[1;32m      2\u001b[0m \u001b[38;5;28;01mimport\u001b[39;00m\u001b[38;5;250m \u001b[39m\u001b[38;5;21;01mjson\u001b[39;00m\n\u001b[1;32m      4\u001b[0m query \u001b[38;5;241m=\u001b[39m \u001b[38;5;124mf\u001b[39m\u001b[38;5;124m\"\"\"\u001b[39m\n\u001b[1;32m      5\u001b[0m \u001b[38;5;124mSELECT ?item ?itemLabel ?image ?imageLabel WHERE \u001b[39m\u001b[38;5;130;01m{{\u001b[39;00m\n\u001b[1;32m      6\u001b[0m \u001b[38;5;124m    ?item wdt:P18 ?image.  # wdt:P18 est la propriété de l\u001b[39m\u001b[38;5;124m'\u001b[39m\u001b[38;5;124mimage\u001b[39m\n\u001b[0;32m----> 7\u001b[0m \u001b[38;5;124m    FILTER(CONTAINS(STR(?image), \u001b[39m\u001b[38;5;124m\"\u001b[39m\u001b[38;5;132;01m{\u001b[39;00m\u001b[43mimage_filename\u001b[49m\u001b[38;5;132;01m}\u001b[39;00m\u001b[38;5;124m\"\u001b[39m\u001b[38;5;124m))  # Filtre par nom de fichier d\u001b[39m\u001b[38;5;124m'\u001b[39m\u001b[38;5;124mimage\u001b[39m\n\u001b[1;32m      8\u001b[0m \u001b[38;5;124m    SERVICE wikibase:label \u001b[39m\u001b[38;5;130;01m{{\u001b[39;00m\u001b[38;5;124m bd:serviceParam wikibase:language \u001b[39m\u001b[38;5;124m\"\u001b[39m\u001b[38;5;124m[AUTO_LANGUAGE],en\u001b[39m\u001b[38;5;124m\"\u001b[39m\u001b[38;5;124m. \u001b[39m\u001b[38;5;130;01m}}\u001b[39;00m\n\u001b[1;32m      9\u001b[0m \u001b[38;5;130;01m}}\u001b[39;00m\n\u001b[1;32m     10\u001b[0m \u001b[38;5;124m\"\"\"\u001b[39m\n\u001b[1;32m     12\u001b[0m \u001b[38;5;66;03m# Endpoint SPARQL de Wikidata\u001b[39;00m\n\u001b[1;32m     13\u001b[0m url \u001b[38;5;241m=\u001b[39m \u001b[38;5;124m\"\u001b[39m\u001b[38;5;124mhttps://query.wikidata.org/sparql\u001b[39m\u001b[38;5;124m\"\u001b[39m\n",
      "\u001b[0;31mNameError\u001b[0m: name 'image_filename' is not defined"
     ]
    }
   ],
   "source": []
  },
  {
   "cell_type": "code",
   "execution_count": null,
   "metadata": {},
   "outputs": [],
   "source": [
    "from PIL import Image\n",
    "import numpy\n",
    "import math\n",
    "import matplotlib.pyplot as plot\n",
    "from sklearn.cluster import KMeans\n",
    "\n",
    "imgfile = Image.open(\"../../images/flower.jpg\")\n",
    "numarray = numpy.array(imgfile.getdata(), numpy.uint8)\n",
    "clusters = KMeans(n_clusters=4, n_init=2)\n",
    "clusters.fit(numarray)\n",
    "npbins = numpy.arange(0, 5)\n",
    "histogram = numpy.histogram(clusters.labels_, bins=npbins)\n",
    "labels = numpy.unique(clusters.labels_)\n",
    "barlist = plot.bar(labels, histogram[0])\n",
    "for i in range(4):\n",
    "    barlist[i].set_color(\n",
    "        \"#%02x%02x%02x\"\n",
    "        % (\n",
    "            math.ceil(clusters.cluster_centers_[i][0]),\n",
    "            math.ceil(clusters.cluster_centers_[i][1]),\n",
    "            math.ceil(clusters.cluster_centers_[i][2]),\n",
    "        )\n",
    "    )\n",
    "plot.show()"
   ]
  }
 ],
 "metadata": {
  "kernelspec": {
   "display_name": "env",
   "language": "python",
   "name": "python3"
  },
  "language_info": {
   "codemirror_mode": {
    "name": "ipython",
    "version": 3
   },
   "file_extension": ".py",
   "mimetype": "text/x-python",
   "name": "python",
   "nbconvert_exporter": "python",
   "pygments_lexer": "ipython3",
   "version": "3.12.3"
  }
 },
 "nbformat": 4,
 "nbformat_minor": 2
}
