{
 "cells": [
  {
   "cell_type": "markdown",
   "metadata": {},
   "source": [
    "Collecte de données"
   ]
  },
  {
   "cell_type": "code",
   "execution_count": 13,
   "metadata": {},
   "outputs": [
    {
     "data": {
      "text/plain": [
       "200"
      ]
     },
     "execution_count": 13,
     "metadata": {},
     "output_type": "execute_result"
    }
   ],
   "source": [
    "import requests\n",
    "import shutil\n",
    "import os\n",
    "import sys\n",
    "from SPARQLWrapper import SPARQLWrapper, JSON\n",
    "\n",
    "endpoint_url = \"https://query.wikidata.org/sparql\"\n",
    "\n",
    "# Get cities\n",
    "query = \"\"\"SELECT DISTINCT ?breed ?breedLabel ?image {\n",
    "  ?breed wdt:P31 wd:Q39367;\n",
    "               wdt:P18 ?image.\n",
    "  SERVICE wikibase:label { bd:serviceParam wikibase:language \"fr\". }\n",
    "}\n",
    "LIMIT 1\"\"\"\n",
    "\n",
    "\n",
    "def get_results(endpoint_url, query):\n",
    "    user_agent = \"WDQS-example Python/%s.%s\" % (\n",
    "        sys.version_info[0],\n",
    "        sys.version_info[1],\n",
    "    )\n",
    "    sparql = SPARQLWrapper(endpoint_url, agent=user_agent)\n",
    "    sparql.setQuery(query)\n",
    "    sparql.setReturnFormat(JSON)\n",
    "    return sparql.query().convert()\n",
    "\n",
    "\n",
    "array = []\n",
    "results = get_results(endpoint_url, query)\n",
    "\n",
    "for result in results[\"results\"][\"bindings\"]:\n",
    "    array.append(\n",
    "        (\n",
    "            result[\"breedLabel\"][\"value\"],\n",
    "            result[\"image\"][\"value\"],\n",
    "        )\n",
    "    )\n",
    "\n",
    "\n",
    "def download_image(url):\n",
    "\n",
    "    headers = {\"User-Agent\": \"Mozilla/5.0\"}\n",
    "    request = requests.get(url, allow_redirects=True, headers=headers, stream=True)\n",
    "    if request.status_code == 200:\n",
    "        with open(os.path.basename(url), \"wb\") as image:\n",
    "            request.raw.decode_content = True\n",
    "            shutil.copyfileobj(request.raw, image)\n",
    "    return request.status_code\n",
    "    \n",
    "download_image(array[0][1])\n"
   ]
  },
  {
   "cell_type": "code",
   "execution_count": 32,
   "metadata": {},
   "outputs": [
    {
     "name": "stdout",
     "output_type": "stream",
     "text": [
      "Tags générés pour images/Antebellum%20Bulldog%20Puppies.jpg:\n",
      "{'#chien', '#bulldog', '#chiot'}\n"
     ]
    }
   ],
   "source": [
    "from PIL import Image\n",
    "import numpy as np\n",
    "from sklearn.cluster import KMeans\n",
    "import matplotlib.pyplot as plot\n",
    "import math\n",
    "from collections import defaultdict\n",
    "import json\n",
    "\n",
    "class ImageTagger:\n",
    "    def __init__(self):\n",
    "        self.color_names = {\n",
    "            'rouge': ((255, 0, 0), 30),\n",
    "            'vert': ((0, 255, 0), 30),\n",
    "            'bleu': ((0, 0, 255), 30),\n",
    "            'jaune': ((255, 255, 0), 30),\n",
    "            'noir': ((0, 0, 0), 30),\n",
    "            'blanc': ((255, 255, 255), 30),\n",
    "            'rose': ((255, 192, 203), 30)\n",
    "            # Ajoutez d'autres couleurs selon vos besoins\n",
    "        }\n",
    "        \n",
    "    def get_color_tags(self, cluster_centers):\n",
    "        \"\"\"Convertit les centres des clusters en noms de couleurs\"\"\"\n",
    "        color_tags = set()\n",
    "        for center in cluster_centers:\n",
    "            rgb = tuple(math.ceil(x) for x in center)\n",
    "            for color_name, (reference, threshold) in self.color_names.items():\n",
    "                distance = sum((a - b) ** 2 for a, b in zip(rgb, reference))\n",
    "                if distance < threshold ** 2:\n",
    "                    color_tags.add(f\"#couleur_{color_name}\")\n",
    "        return color_tags\n",
    "\n",
    "    def save_tags(self, image_path, tags, output_file=\"image_tags.json\"):\n",
    "        \"\"\"Sauvegarde les tags dans un fichier JSON\"\"\"\n",
    "        try:\n",
    "            with open(output_file, 'r') as f:\n",
    "                tag_data = json.load(f)\n",
    "        except (FileNotFoundError, json.JSONDecodeError):\n",
    "            tag_data = {}\n",
    "            \n",
    "        tag_data[image_path] = list(tags)\n",
    "        \n",
    "        with open(output_file, 'w', encoding='utf-8') as f:\n",
    "            json.dump(tag_data, f, ensure_ascii=False, indent=2)\n",
    "\n",
    "    def process_image(self, image_path, user_tags=None):\n",
    "        \"\"\"Traite une image pour générer et sauvegarder ses tags\"\"\"\n",
    "        # Analyse des couleurs\n",
    "        img = Image.open(image_path)\n",
    "        img_array = np.array(img.getdata(), np.uint8)\n",
    "        clusters = KMeans(n_clusters=4, n_init=2)\n",
    "        clusters.fit(img_array)\n",
    "        \n",
    "        # Génération des tags de couleurs\n",
    "        color_tags = self.get_color_tags(clusters.cluster_centers_)\n",
    "        \n",
    "        # Combinaison avec les tags utilisateur\n",
    "        all_tags = color_tags\n",
    "        if user_tags:\n",
    "            all_tags.update(user_tags)\n",
    "            \n",
    "        # Sauvegarde des tags\n",
    "        self.save_tags(image_path, all_tags)\n",
    "        return all_tags\n",
    "\n",
    "# Exemple d'utilisation\n",
    "if __name__ == \"__main__\":\n",
    "    tagger = ImageTagger()\n",
    "    image_path = \"images/Antebellum%20Bulldog%20Puppies.jpg\"\n",
    "    \n",
    "    # Tags manuels (peuvent être fournis par l'utilisateur)\n",
    "    user_tags = {\"#chien\", \"#chiot\", \"#bulldog\"}\n",
    "    \n",
    "    # Traitement de l'image\n",
    "    tags = tagger.process_image(image_path, user_tags)\n",
    "    print(f\"Tags générés pour {image_path}:\")\n",
    "    print(tags)"
   ]
  }
 ],
 "metadata": {
  "kernelspec": {
   "display_name": "env",
   "language": "python",
   "name": "python3"
  },
  "language_info": {
   "codemirror_mode": {
    "name": "ipython",
    "version": 3
   },
   "file_extension": ".py",
   "mimetype": "text/x-python",
   "name": "python",
   "nbconvert_exporter": "python",
   "pygments_lexer": "ipython3",
   "version": "3.12.3"
  }
 },
 "nbformat": 4,
 "nbformat_minor": 2
}
